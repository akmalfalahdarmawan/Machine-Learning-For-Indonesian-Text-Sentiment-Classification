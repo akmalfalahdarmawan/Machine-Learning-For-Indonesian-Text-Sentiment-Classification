{
 "cells": [
  {
   "cell_type": "code",
   "execution_count": 1,
   "id": "c02ad1e4",
   "metadata": {},
   "outputs": [],
   "source": [
    "# --- 0. Import Library yang Diperlukan ---\n",
    "import pandas as pd\n",
    "import numpy as np\n",
    "import matplotlib.pyplot as plt\n",
    "import seaborn as sns\n",
    "import string\n",
    "import re\n",
    "import nltk\n",
    "from nltk.corpus import stopwords\n",
    "\n",
    "from sklearn.model_selection import train_test_split\n",
    "from sklearn.feature_extraction.text import TfidfVectorizer\n",
    "from sklearn.linear_model import LogisticRegression\n",
    "from sklearn.svm import LinearSVC \n",
    "from sklearn.metrics import classification_report, confusion_matrix\n",
    "\n",
    "# Pastikan stop_words NLTK sudah diunduh. Jalankan ini sekali saja.\n",
    "try:\n",
    "    nltk.data.find('corpora/stopwords')\n",
    "except nltk.downloader.DownloadError:\n",
    "    nltk.download('stopwords')\n",
    "    print(\"NLTK stopwords for 'indonesian' downloaded.\")"
   ]
  },
  {
   "cell_type": "code",
   "execution_count": 2,
   "id": "93635276",
   "metadata": {},
   "outputs": [
    {
     "name": "stdout",
     "output_type": "stream",
     "text": [
      "--- Bagian 1: Pemuatan Data dan Preprocessing Awal ---\n",
      "\n",
      "Distribusi Sentimen dalam Dataset:\n",
      "sentiment_label\n",
      "positif    1026\n",
      "negatif     621\n",
      "netral      546\n",
      "Name: count, dtype: int64\n",
      "--------------------------------------------------\n"
     ]
    }
   ],
   "source": [
    "# --- 1. Load Data dan Preprocessing Awal ---\n",
    "print(\"--- Bagian 1: Pemuatan Data dan Preprocessing Awal ---\")\n",
    "file_path = \"Data.csv\" # Ganti nama file jika berbeda\n",
    "df = pd.read_csv(file_path)\n",
    "\n",
    "# Drop baris kosong pada kolom 'sentiment' untuk memastikan data bersih\n",
    "df = df.dropna(subset=[\"sentiment\"])\n",
    "\n",
    "# Konversi kolom 'sentiment' ke integer (jika belum)\n",
    "df['sentiment'] = df['sentiment'].astype(int)\n",
    "\n",
    "# Mapping label angka ke teks\n",
    "label_map = {0: 'negatif', 1: 'netral', 2: 'positif'}\n",
    "df['sentiment_label'] = df['sentiment'].map(label_map)\n",
    "\n",
    "# Cetak distribusi sentimen untuk analisis awal\n",
    "print(\"\\nDistribusi Sentimen dalam Dataset:\")\n",
    "print(df['sentiment_label'].value_counts())\n",
    "print(\"-\" * 50)"
   ]
  },
  {
   "cell_type": "code",
   "execution_count": 3,
   "id": "551dc431",
   "metadata": {},
   "outputs": [
    {
     "name": "stdout",
     "output_type": "stream",
     "text": [
      "\n",
      "--- Bagian 2: Preprocessing Teks ---\n",
      "\n",
      "Data setelah preprocessing:\n",
      "                                         review_text  \\\n",
      "0  Materinya goks abis, auto paham! Instrukturnya...   \n",
      "1  Platformnya anjay, interaktif banget, jadi gak...   \n",
      "2  Mentornya pro player, ngajarnya santuy tapi ng...   \n",
      "3  Sumpah, ini kursus paling oke! Ilmunya kepake ...   \n",
      "4  Sertifikatnya nampol buat naikin CV. Vibes bel...   \n",
      "\n",
      "                                          clean_text sentiment_label  \n",
      "0  materinya goks abis auto paham instrukturnya j...         positif  \n",
      "1  platformnya anjay interaktif banget jadi gak m...         positif  \n",
      "2  mentornya pro player ngajarnya santuy tapi nge...         positif  \n",
      "3  sumpah ini kursus paling oke ilmunya kepake ba...         positif  \n",
      "4  sertifikatnya nampol buat naikin cv vibes bela...         positif  \n",
      "--------------------------------------------------\n"
     ]
    }
   ],
   "source": [
    "# --- 2. Fungsi Preprocessing Teks ---\n",
    "print(\"\\n--- Bagian 2: Preprocessing Teks ---\")\n",
    "\n",
    "def preprocess_text(text):\n",
    "    \"\"\"\n",
    "    Fungsi untuk membersihkan teks ulasan.\n",
    "    Melakukan:\n",
    "    - Konversi ke huruf kecil.\n",
    "    - Menghapus URL.\n",
    "    - Menghapus mention (@username).\n",
    "    - Menghapus hashtag (#hashtag).\n",
    "    - Menghapus angka.\n",
    "    - Menghapus tanda baca (kecuali apostrof).\n",
    "    - Menghapus kata-kata pendek (1 karakter).\n",
    "    - Menghapus spasi ganda dan trim.\n",
    "    \"\"\"\n",
    "    text = str(text).lower()\n",
    "    text = re.sub(r\"http\\S+\", \"\", text)  \n",
    "    text = re.sub(r\"@\\w+\", \"\", text)     \n",
    "    text = re.sub(r\"#\\w+\", \"\", text)     \n",
    "    text = re.sub(r\"\\d+\", \"\", text)      \n",
    "    # Menghilangkan tanda baca, kecuali apostrof\n",
    "    text = text.translate(str.maketrans('', '', string.punctuation.replace(\"'\", \"\")))\n",
    "\n",
    "    # Hapus kata-kata yang terlalu pendek dan tidak bermakna\n",
    "    text = ' '.join(word for word in text.split() if len(word) > 1)\n",
    "\n",
    "    # Menghapus spasi ganda dan trim\n",
    "    text = re.sub(r\"\\s+\", \" \", text).strip()\n",
    "    return text\n",
    "\n",
    "# Terapkan preprocessing ke kolom 'review_text'\n",
    "df[\"clean_text\"] = df[\"review_text\"].apply(preprocess_text)\n",
    "\n",
    "# Tampilkan 5 data pertama setelah preprocessing\n",
    "print(\"\\nData setelah preprocessing:\")\n",
    "print(df[[\"review_text\", \"clean_text\", \"sentiment_label\"]].head())\n",
    "print(\"-\" * 50)\n"
   ]
  },
  {
   "cell_type": "code",
   "execution_count": 4,
   "id": "02827f58",
   "metadata": {},
   "outputs": [
    {
     "name": "stdout",
     "output_type": "stream",
     "text": [
      "\n",
      "--- Bagian 3: Pembagian Data ---\n",
      "Ukuran Data Latih (X_train): 1754 samples\n",
      "Ukuran Data Uji (X_test): 439 samples\n",
      "--------------------------------------------------\n"
     ]
    }
   ],
   "source": [
    "# --- 3. Split Data Pelatihan dan Pengujian ---\n",
    "print(\"\\n--- Bagian 3: Pembagian Data ---\")\n",
    "# Fitur (X) dan label (y)\n",
    "X = df[\"clean_text\"]\n",
    "y = df[\"sentiment_label\"]\n",
    "\n",
    "# Split data: 80% latih, 20% uji\n",
    "# random_state digunakan agar hasil split konsisten setiap kali dijalankan\n",
    "# stratify=y penting untuk memastikan distribusi kelas sentimen yang sama di train dan test set\n",
    "X_train, X_test, y_train, y_test = train_test_split(X, y, test_size=0.2, random_state=42, stratify=y)\n",
    "\n",
    "print(f\"Ukuran Data Latih (X_train): {X_train.shape[0]} samples\")\n",
    "print(f\"Ukuran Data Uji (X_test): {X_test.shape[0]} samples\")\n",
    "print(\"-\" * 50)"
   ]
  },
  {
   "cell_type": "code",
   "execution_count": 5,
   "id": "0f7c1abd",
   "metadata": {},
   "outputs": [
    {
     "name": "stdout",
     "output_type": "stream",
     "text": [
      "\n",
      "--- Bagian 4: TF-IDF Vektorisasi Teks ---\n",
      "Ukuran Matriks TF-IDF Data Latih: (1754, 1246)\n",
      "Ukuran Matriks TF-IDF Data Uji: (439, 1246)\n",
      "--------------------------------------------------\n"
     ]
    },
    {
     "name": "stderr",
     "output_type": "stream",
     "text": [
      "c:\\Users\\202ak\\anaconda3\\Lib\\site-packages\\sklearn\\feature_extraction\\text.py:402: UserWarning: Your stop_words may be inconsistent with your preprocessing. Tokenizing the stop words generated tokens ['baiknya', 'berkali', 'kali', 'kurangnya', 'mata', 'olah', 'sekurang', 'setidak', 'tama', 'tidaknya'] not in stop_words.\n",
      "  warnings.warn(\n"
     ]
    }
   ],
   "source": [
    "# --- 4. TF-IDF Vektorisasi Teks ---\n",
    "print(\"\\n--- Bagian 4: TF-IDF Vektorisasi Teks ---\")\n",
    "# Inisialisasi TfidfVectorizer\n",
    "# max_features: Batasi jumlah fitur (kata) yang digunakan\n",
    "# ngram_range: Pertimbangkan unigram dan bigram (pasangan kata)\n",
    "stop_words_id = set(stopwords.words('indonesian'))\n",
    "\n",
    "tfidf = TfidfVectorizer(max_features=5000,\n",
    "                        ngram_range=(1, 2), # Bisa coba (1,3) atau (2,2) jika diperlukan\n",
    "                        stop_words=list(stop_words_id) # Tambahkan stop_words bahasa Indonesia\n",
    "                       )\n",
    "\n",
    "# Fit TF-IDF hanya pada data pelatihan, lalu transform data pelatihan\n",
    "X_train_tfidf = tfidf.fit_transform(X_train)\n",
    "\n",
    "# Transform data pengujian menggunakan vektorizer yang sudah di-fit dari data pelatihan\n",
    "# Ini MENCEGAH DATA LEAKAGE dari data uji ke data latih\n",
    "X_test_tfidf = tfidf.transform(X_test)\n",
    "\n",
    "print(f\"Ukuran Matriks TF-IDF Data Latih: {X_train_tfidf.shape}\")\n",
    "print(f\"Ukuran Matriks TF-IDF Data Uji: {X_test_tfidf.shape}\")\n",
    "print(\"-\" * 50)\n"
   ]
  },
  {
   "cell_type": "code",
   "execution_count": 6,
   "id": "420f3f10",
   "metadata": {},
   "outputs": [
    {
     "name": "stdout",
     "output_type": "stream",
     "text": [
      "\n",
      "--- Bagian 5: Pelatihan Model Logistic Regression ---\n",
      "Model Logistic Regression telah dilatih.\n",
      "--------------------------------------------------\n"
     ]
    }
   ],
   "source": [
    "# --- 5. Pelatihan Model Logistic Regression ---\n",
    "print(\"\\n--- Bagian 5: Pelatihan Model Logistic Regression ---\")\n",
    "# Buat dan latih model Logistic Regression\n",
    "# class_weight='balanced' penting untuk menangani ketidakseimbangan kelas (jika ada)\n",
    "# solver='liblinear' cocok untuk dataset kecil-menengah dan bekerja baik dengan L1/L2 regularization\n",
    "model_lr = LogisticRegression(max_iter=1000, solver='liblinear', random_state=42, class_weight='balanced')\n",
    "model_lr.fit(X_train_tfidf, y_train)\n",
    "\n",
    "print(\"Model Logistic Regression telah dilatih.\")\n",
    "print(\"-\" * 50)"
   ]
  },
  {
   "cell_type": "code",
   "execution_count": 7,
   "id": "0422bfd9",
   "metadata": {},
   "outputs": [
    {
     "name": "stdout",
     "output_type": "stream",
     "text": [
      "\n",
      "--- Bagian 6: Evaluasi Model Logistic Regression ---\n",
      "\n",
      "Classification Report (Logistic Regression):\n",
      "              precision    recall  f1-score   support\n",
      "\n",
      "     negatif       1.00      1.00      1.00       124\n",
      "      netral       1.00      1.00      1.00       109\n",
      "     positif       1.00      1.00      1.00       206\n",
      "\n",
      "    accuracy                           1.00       439\n",
      "   macro avg       1.00      1.00      1.00       439\n",
      "weighted avg       1.00      1.00      1.00       439\n",
      "\n"
     ]
    },
    {
     "data": {
      "image/png": "[encoded data removed]",
      "text/plain": [
       "<Figure size 800x600 with 2 Axes>"
      ]
     },
     "metadata": {},
     "output_type": "display_data"
    },
    {
     "name": "stdout",
     "output_type": "stream",
     "text": [
      "--------------------------------------------------\n"
     ]
    }
   ],
   "source": [
    "# --- 6. Evaluasi Model Logistic Regression ---\n",
    "print(\"\\n--- Bagian 6: Evaluasi Model Logistic Regression ---\")\n",
    "# Prediksi hasil uji\n",
    "y_pred_lr = model_lr.predict(X_test_tfidf)\n",
    "\n",
    "# Evaluasi performa model\n",
    "print(\"\\nClassification Report (Logistic Regression):\")\n",
    "print(classification_report(y_test, y_pred_lr, zero_division=0)) # zero_division=0 untuk menghindari warning jika ada kelas tanpa prediksi/true samples\n",
    "\n",
    "# Confusion matrix\n",
    "labels = sorted(df['sentiment_label'].unique()) # Pastikan urutan label konsisten\n",
    "cm_lr = confusion_matrix(y_test, y_pred_lr, labels=labels)\n",
    "\n",
    "# Plot heatmap confusion matrix\n",
    "plt.figure(figsize=(8, 6))\n",
    "sns.heatmap(cm_lr, annot=True, fmt='d', cmap='Blues', xticklabels=labels, yticklabels=labels)\n",
    "plt.xlabel('Predicted Label')\n",
    "plt.ylabel('True Label')\n",
    "plt.title('Confusion Matrix - Logistic Regression')\n",
    "plt.show()\n",
    "print(\"-\" * 50)"
   ]
  },
  {
   "cell_type": "code",
   "execution_count": 8,
   "id": "401e92a7",
   "metadata": {},
   "outputs": [
    {
     "name": "stdout",
     "output_type": "stream",
     "text": [
      "\n",
      "--- Bagian 7: Contoh Prediksi Baru (Logistic Regression) ---\n",
      "\n",
      "Hasil Prediksi dengan Logistic Regression:\n",
      "Ulasan: 'Materinya goks abis, auto paham! Instrukturnya juga asik banget.' -> Sentimen: positif\n",
      "Ulasan: 'Platformnya anjay, interaktif banget, jadi gak bosen.' -> Sentimen: positif\n",
      "Ulasan: 'Mentornya pro player, ngajarnya santuy tapi ngegas materinya.' -> Sentimen: positif\n",
      "Ulasan: 'Sumpah, ini kursus paling oke! Ilmunya kepake banget.' -> Sentimen: positif\n",
      "Ulasan: 'Sertifikatnya nampol buat naikin CV. Vibes belajarnya mantul.' -> Sentimen: positif\n",
      "Ulasan: 'Pelayanan customer service nya sangat buruk, bikin emosi.' -> Sentimen: negatif\n",
      "Ulasan: 'Gak ada tugas praktek, jadi cuma teori doang. Kurang mantep' -> Sentimen: negatif\n",
      "Ulasan: 'Kurang memuaskan, kecewa dengan layanannya.' -> Sentimen: negatif\n",
      "Ulasan: 'Produk ini sangat bagus dan sesuai harapan!' -> Sentimen: netral\n",
      "Ulasan: 'Biasa saja, tidak ada yang spesial.' -> Sentimen: netral\n",
      "Ulasan: 'Gampang dipake, efektif banget. Hasilnya pecah!' -> Sentimen: positif\n",
      "--------------------------------------------------\n"
     ]
    }
   ],
   "source": [
    "# --- 7. Contoh Prediksi Baru (Logistic Regression) ---\n",
    "print(\"\\n--- Bagian 7: Contoh Prediksi Baru (Logistic Regression) ---\")\n",
    "new_reviews = [\n",
    "    \"Materinya goks abis, auto paham! Instrukturnya juga asik banget.\", \n",
    "    \"Platformnya anjay, interaktif banget, jadi gak bosen.\", \n",
    "    \"Mentornya pro player, ngajarnya santuy tapi ngegas materinya.\", \n",
    "    \"Sumpah, ini kursus paling oke! Ilmunya kepake banget.\", \n",
    "    \"Sertifikatnya nampol buat naikin CV. Vibes belajarnya mantul.\", \n",
    "    \"Pelayanan customer service nya sangat buruk, bikin emosi.\", \n",
    "    \"Gak ada tugas praktek, jadi cuma teori doang. Kurang mantep\", \n",
    "    \"Kurang memuaskan, kecewa dengan layanannya.\", \n",
    "    \"Produk ini sangat bagus dan sesuai harapan!\", \n",
    "    \"Biasa saja, tidak ada yang spesial.\",\n",
    "    \"Gampang dipake, efektif banget. Hasilnya pecah!\"\n",
    "]\n",
    "\n",
    "# Preprocess ulasan baru\n",
    "clean_new_reviews = [preprocess_text(review) for review in new_reviews]\n",
    "\n",
    "# Vektorisasi ulasan baru menggunakan TF-IDF yang sudah di-fit dari data pelatihan\n",
    "new_reviews_tfidf = tfidf.transform(clean_new_reviews)\n",
    "\n",
    "# Prediksi sentimen\n",
    "predictions_lr = model_lr.predict(new_reviews_tfidf)\n",
    "\n",
    "print(\"\\nHasil Prediksi dengan Logistic Regression:\")\n",
    "for i, review in enumerate(new_reviews):\n",
    "    print(f\"Ulasan: '{review}' -> Sentimen: {predictions_lr[i]}\")\n",
    "print(\"-\" * 50)"
   ]
  },
  {
   "cell_type": "code",
   "execution_count": 9,
   "id": "a5c60194",
   "metadata": {},
   "outputs": [
    {
     "name": "stdout",
     "output_type": "stream",
     "text": [
      "\n",
      "--- Bagian 8: Pelatihan dan Evaluasi Model LinearSVC ---\n",
      "Model LinearSVC telah dilatih.\n",
      "\n",
      "Classification Report (LinearSVC):\n",
      "              precision    recall  f1-score   support\n",
      "\n",
      "     negatif       1.00      1.00      1.00       124\n",
      "      netral       1.00      1.00      1.00       109\n",
      "     positif       1.00      1.00      1.00       206\n",
      "\n",
      "    accuracy                           1.00       439\n",
      "   macro avg       1.00      1.00      1.00       439\n",
      "weighted avg       1.00      1.00      1.00       439\n",
      "\n"
     ]
    },
    {
     "data": {
      "image/png": "[encoded data removed]",
      "text/plain": [
       "<Figure size 800x600 with 2 Axes>"
      ]
     },
     "metadata": {},
     "output_type": "display_data"
    },
    {
     "name": "stdout",
     "output_type": "stream",
     "text": [
      "--------------------------------------------------\n"
     ]
    }
   ],
   "source": [
    "# --- 8. Pelatihan dan Evaluasi Model LinearSVC (Alternatif/Perbandingan) ---\n",
    "print(\"\\n--- Bagian 8: Pelatihan dan Evaluasi Model LinearSVC ---\")\n",
    "# Model SVM (LinearSVC adalah implementasi SVM yang cocok untuk data teks)\n",
    "# class_weight='balanced' juga bisa diterapkan di sini\n",
    "model_svc = LinearSVC(random_state=42, class_weight='balanced', max_iter=1000)\n",
    "model_svc.fit(X_train_tfidf, y_train)\n",
    "\n",
    "print(\"Model LinearSVC telah dilatih.\")\n",
    "\n",
    "# Evaluasi\n",
    "y_pred_svc = model_svc.predict(X_test_tfidf)\n",
    "print(\"\\nClassification Report (LinearSVC):\")\n",
    "print(classification_report(y_test, y_pred_svc, zero_division=0))\n",
    "\n",
    "# Confusion Matrix\n",
    "cm_svc = confusion_matrix(y_test, y_pred_svc, labels=labels) # Menggunakan labels yang sama\n",
    "plt.figure(figsize=(8, 6))\n",
    "sns.heatmap(cm_svc, annot=True, fmt='d', cmap='Blues', xticklabels=labels, yticklabels=labels)\n",
    "plt.xlabel(\"Predicted Label\")\n",
    "plt.ylabel(\"True Label\")\n",
    "plt.title(\"Confusion Matrix - LinearSVC\")\n",
    "plt.show()\n",
    "print(\"-\" * 50)"
   ]
  },
  {
   "cell_type": "code",
   "execution_count": null,
   "id": "8f41e5ac",
   "metadata": {},
   "outputs": [],
   "source": []
  },
  {
   "cell_type": "code",
   "execution_count": null,
   "id": "37e825cd",
   "metadata": {},
   "outputs": [],
   "source": []
  }
 ],
 "metadata": {
  "kernelspec": {
   "display_name": "base",
   "language": "python",
   "name": "python3"
  },
  "language_info": {
   "codemirror_mode": {
    "name": "ipython",
    "version": 3
   },
   "file_extension": ".py",
   "mimetype": "text/x-python",
   "name": "python",
   "nbconvert_exporter": "python",
   "pygments_lexer": "ipython3",
   "version": "3.12.7"
  }
 },
 "nbformat": 4,
 "nbformat_minor": 5
}
